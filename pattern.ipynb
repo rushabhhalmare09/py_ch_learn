Q.1] Print the following pattern for the given N number of rows.
Pattern for N = 4
4444
4444
4444
4444


num = int(input("Enter a number: - "))
i = 0

while i < num:
    j=1
    while j <= num:
        print(num , end='')
        j = j + 1
    print()
    i = i + 1
